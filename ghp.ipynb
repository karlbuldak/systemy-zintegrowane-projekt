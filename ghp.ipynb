{
 "cells": [
  {
   "cell_type": "code",
   "execution_count": null,
   "metadata": {
    "vscode": {
     "languageId": "plaintext"
    }
   },
   "outputs": [],
   "source": [
    "# Hantla do ćwiczeń\n",
    "## gryf\n",
    "## ciężarki(2) -> żelazo, pokrywa gumowa(2) "
   ]
  },
  {
   "cell_type": "code",
   "execution_count": 85,
   "metadata": {},
   "outputs": [],
   "source": [
    "demand_input = input(\"Podaj tygodnie i odpowiadające im popyty (np. '5:12,7:8'): \")\n",
    "production_input = input(\"Podaj tygodnie i odpowiadające im sztuki do wyprodukowania (np. '5:12,7:8'): \")\n",
    "available_input = input(\"Podaj obecnie dostępne sztuki towaru: \")"
   ]
  },
  {
   "cell_type": "code",
   "execution_count": 92,
   "metadata": {},
   "outputs": [],
   "source": [
    "def calculate_production(production_input):\n",
    "    production = [0 for x in range(10)]\n",
    "    for pair in production_input.split(\",\"):\n",
    "        week, amount = pair.split(\":\")\n",
    "        week = int(week.strip())\n",
    "        amount = int(amount.strip())\n",
    "        production[week-1] = amount\n",
    "    return production"
   ]
  },
  {
   "cell_type": "code",
   "execution_count": 94,
   "metadata": {},
   "outputs": [],
   "source": [
    "def calculate_demand(demand_input):\n",
    "    demand = [0 for x in range(10)]\n",
    "    for pair in demand_input.split(\",\"):\n",
    "        week, amount = pair.split(\":\")\n",
    "        week = int(week.strip())\n",
    "        amount = int(amount.strip())\n",
    "        demand[week-1] = amount\n",
    "    return demand"
   ]
  },
  {
   "cell_type": "code",
   "execution_count": 95,
   "metadata": {},
   "outputs": [],
   "source": [
    "# def first_non_null_index(lst):\n",
    "#     for idx, item in enumerate(lst):\n",
    "#         if item == 0:\n",
    "#             return idx"
   ]
  },
  {
   "cell_type": "code",
   "execution_count": 99,
   "metadata": {},
   "outputs": [],
   "source": [
    "def calculate_available(available_input, production_input, demand_input):\n",
    "    demand = calculate_demand(demand_input)\n",
    "    production = calculate_production(production_input)\n",
    "    \n",
    "    # Jeśli pierwszy indeks popytu wynosi 0, wprowadź nowe dane dostępności\n",
    "    while demand[0] == 0:\n",
    "        available_input = int(input(\"Podaj nową dostępną ilość: \"))\n",
    "        for i in range(10):\n",
    "            available_input += production[i] - demand[i]\n",
    "        demand = calculate_demand(demand_input)  # Odśwież dane popytu na wypadek, gdyby zmieniły się\n",
    "        print(\"Pierwszy indeks popytu wynosi 0. Aktualizacja dostępności...\")\n",
    "    \n",
    "    # Oblicz dostępność na podstawie wprowadzonych danych\n",
    "    available = [available_input for _ in range(10)]\n",
    "    for i in range(10):\n",
    "        available[i] += production[i] - demand[i]\n",
    "    \n",
    "    return available\n"
   ]
  },
  {
   "cell_type": "code",
   "execution_count": 100,
   "metadata": {},
   "outputs": [],
   "source": [
    "import pandas as pd"
   ]
  },
  {
   "cell_type": "code",
   "execution_count": 101,
   "metadata": {},
   "outputs": [
    {
     "ename": "TypeError",
     "evalue": "calculate_available() missing 2 required positional arguments: 'production_input' and 'demand_input'",
     "output_type": "error",
     "traceback": [
      "\u001b[0;31m---------------------------------------------------------------------------\u001b[0m",
      "\u001b[0;31mTypeError\u001b[0m                                 Traceback (most recent call last)",
      "Cell \u001b[0;32mIn[101], line 5\u001b[0m\n\u001b[1;32m      1\u001b[0m ghp \u001b[38;5;241m=\u001b[39m {\n\u001b[1;32m      2\u001b[0m     \u001b[38;5;124m'\u001b[39m\u001b[38;5;124mtydzień\u001b[39m\u001b[38;5;124m'\u001b[39m : [\u001b[38;5;241m1\u001b[39m,\u001b[38;5;241m2\u001b[39m,\u001b[38;5;241m3\u001b[39m,\u001b[38;5;241m4\u001b[39m,\u001b[38;5;241m5\u001b[39m,\u001b[38;5;241m6\u001b[39m,\u001b[38;5;241m7\u001b[39m,\u001b[38;5;241m8\u001b[39m,\u001b[38;5;241m9\u001b[39m,\u001b[38;5;241m10\u001b[39m],\n\u001b[1;32m      3\u001b[0m     \u001b[38;5;124m'\u001b[39m\u001b[38;5;124mprzewidywany popyt\u001b[39m\u001b[38;5;124m'\u001b[39m : calculate_demand(demand_input),\n\u001b[1;32m      4\u001b[0m     \u001b[38;5;124m'\u001b[39m\u001b[38;5;124mprodukcja\u001b[39m\u001b[38;5;124m'\u001b[39m : calculate_production(production_input),\n\u001b[0;32m----> 5\u001b[0m     \u001b[38;5;124m'\u001b[39m\u001b[38;5;124mdostepne\u001b[39m\u001b[38;5;124m'\u001b[39m : \u001b[43mcalculate_available\u001b[49m\u001b[43m(\u001b[49m\u001b[43mavailable_input\u001b[49m\u001b[43m)\u001b[49m\n\u001b[1;32m      6\u001b[0m }\n",
      "\u001b[0;31mTypeError\u001b[0m: calculate_available() missing 2 required positional arguments: 'production_input' and 'demand_input'"
     ]
    }
   ],
   "source": [
    "ghp = {\n",
    "    'tydzień' : [1,2,3,4,5,6,7,8,9,10],\n",
    "    'przewidywany popyt' : calculate_demand(demand_input),\n",
    "    'produkcja' : calculate_production(production_input),\n",
    "    'dostepne' : calculate_available(available_input, calculate_production(production_input), )\n",
    "}"
   ]
  },
  {
   "cell_type": "code",
   "execution_count": null,
   "metadata": {},
   "outputs": [
    {
     "data": {
      "text/html": [
       "<div>\n",
       "<style scoped>\n",
       "    .dataframe tbody tr th:only-of-type {\n",
       "        vertical-align: middle;\n",
       "    }\n",
       "\n",
       "    .dataframe tbody tr th {\n",
       "        vertical-align: top;\n",
       "    }\n",
       "\n",
       "    .dataframe thead th {\n",
       "        text-align: right;\n",
       "    }\n",
       "</style>\n",
       "<table border=\"1\" class=\"dataframe\">\n",
       "  <thead>\n",
       "    <tr style=\"text-align: right;\">\n",
       "      <th></th>\n",
       "      <th>0</th>\n",
       "      <th>1</th>\n",
       "      <th>2</th>\n",
       "      <th>3</th>\n",
       "      <th>4</th>\n",
       "      <th>5</th>\n",
       "      <th>6</th>\n",
       "      <th>7</th>\n",
       "      <th>8</th>\n",
       "      <th>9</th>\n",
       "    </tr>\n",
       "  </thead>\n",
       "  <tbody>\n",
       "    <tr>\n",
       "      <th>tydzień</th>\n",
       "      <td>1</td>\n",
       "      <td>2</td>\n",
       "      <td>3</td>\n",
       "      <td>4</td>\n",
       "      <td>5</td>\n",
       "      <td>6</td>\n",
       "      <td>7</td>\n",
       "      <td>8</td>\n",
       "      <td>9</td>\n",
       "      <td>10</td>\n",
       "    </tr>\n",
       "    <tr>\n",
       "      <th>przewidywany popyt</th>\n",
       "      <td>0</td>\n",
       "      <td>0</td>\n",
       "      <td>0</td>\n",
       "      <td>0</td>\n",
       "      <td>12</td>\n",
       "      <td>0</td>\n",
       "      <td>8</td>\n",
       "      <td>0</td>\n",
       "      <td>0</td>\n",
       "      <td>0</td>\n",
       "    </tr>\n",
       "    <tr>\n",
       "      <th>produkcja</th>\n",
       "      <td>0</td>\n",
       "      <td>0</td>\n",
       "      <td>0</td>\n",
       "      <td>1</td>\n",
       "      <td>0</td>\n",
       "      <td>0</td>\n",
       "      <td>6</td>\n",
       "      <td>0</td>\n",
       "      <td>0</td>\n",
       "      <td>0</td>\n",
       "    </tr>\n",
       "    <tr>\n",
       "      <th>dostepne</th>\n",
       "      <td>0</td>\n",
       "      <td>0</td>\n",
       "      <td>0</td>\n",
       "      <td>1</td>\n",
       "      <td>-12</td>\n",
       "      <td>0</td>\n",
       "      <td>-2</td>\n",
       "      <td>0</td>\n",
       "      <td>0</td>\n",
       "      <td>0</td>\n",
       "    </tr>\n",
       "  </tbody>\n",
       "</table>\n",
       "</div>"
      ],
      "text/plain": [
       "                    0  1  2  3   4  5  6  7  8   9\n",
       "tydzień             1  2  3  4   5  6  7  8  9  10\n",
       "przewidywany popyt  0  0  0  0  12  0  8  0  0   0\n",
       "produkcja           0  0  0  1   0  0  6  0  0   0\n",
       "dostepne            0  0  0  1 -12  0 -2  0  0   0"
      ]
     },
     "execution_count": 84,
     "metadata": {},
     "output_type": "execute_result"
    }
   ],
   "source": [
    "df = pd.DataFrame(ghp).transpose()\n",
    "df"
   ]
  },
  {
   "cell_type": "code",
   "execution_count": null,
   "metadata": {},
   "outputs": [],
   "source": []
  }
 ],
 "metadata": {
  "kernelspec": {
   "display_name": "venv",
   "language": "python",
   "name": "python3"
  },
  "language_info": {
   "codemirror_mode": {
    "name": "ipython",
    "version": 3
   },
   "file_extension": ".py",
   "mimetype": "text/x-python",
   "name": "python",
   "nbconvert_exporter": "python",
   "pygments_lexer": "ipython3",
   "version": "3.12.2"
  }
 },
 "nbformat": 4,
 "nbformat_minor": 2
}
