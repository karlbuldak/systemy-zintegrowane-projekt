{
 "cells": [
  {
   "cell_type": "code",
   "execution_count": null,
   "metadata": {
    "vscode": {
     "languageId": "plaintext"
    }
   },
   "outputs": [],
   "source": [
    "# Hantla do ćwiczeń\n",
    "## gryf\n",
    "## ciężarki(2) -> żelazo, pokrywa gumowa(2) "
   ]
  },
  {
   "cell_type": "markdown",
   "metadata": {},
   "source": [
    "5:20,7:40\n",
    "5:28,7:30"
   ]
  },
  {
   "cell_type": "code",
   "execution_count": null,
   "metadata": {},
   "outputs": [],
   "source": [
    "# demand_input = input(\"Podaj tygodnie i odpowiadające im popyty (np. '5:12,7:8'): \")\n",
    "demand_input = '4:20,3:40'\n",
    "# production_input = input(\"Podaj tygodnie i odpowiadające im sztuki do wyprodukowania (np. '5:12,7:8'): \")\n",
    "production_input = '4:28,3:30'\n",
    "# available_input = input(\"Podaj obecnie dostępne sztuki towaru: \")\n",
    "available_input = '1'"
   ]
  },
  {
   "cell_type": "code",
   "execution_count": null,
   "metadata": {},
   "outputs": [],
   "source": [
    "def calculate_production(production_input):\n",
    "    production = [0 for x in range(10)]\n",
    "    for pair in production_input.split(\",\"):\n",
    "        week, amount = pair.split(\":\")\n",
    "        week = int(week.strip())\n",
    "        amount = int(amount.strip())\n",
    "        production[week-1] = amount\n",
    "    return production"
   ]
  },
  {
   "cell_type": "code",
   "execution_count": null,
   "metadata": {},
   "outputs": [],
   "source": [
    "def calculate_demand(demand_input):\n",
    "    demand = [0 for x in range(10)]\n",
    "    for pair in demand_input.split(\",\"):\n",
    "        week, amount = pair.split(\":\")\n",
    "        week = int(week.strip())\n",
    "        amount = int(amount.strip())\n",
    "        demand[week-1] = amount\n",
    "    return demand"
   ]
  },
  {
   "cell_type": "code",
   "execution_count": null,
   "metadata": {},
   "outputs": [],
   "source": [
    "def calculate_available(available_input):\n",
    "    available = [0 for x in range(10)]\n",
    "    demand = calculate_demand(demand_input)\n",
    "    production = calculate_production(production_input)\n",
    "    available[0] = available_input\n",
    "    for i in range(len(demand)):\n",
    "        if demand[i] == 0: \n",
    "            available[i] = int(available_input)\n",
    "        else:\n",
    "            break\n",
    "    for i in range(1, len(available)):\n",
    "        if demand[i] != 0:\n",
    "            available[i] = production[i] - demand[i] + available[i-1]\n",
    "        else:\n",
    "            try:\n",
    "                available[i] = available[i-1]\n",
    "            except:\n",
    "                pass\n",
    "    return available\n",
    "        "
   ]
  },
  {
   "cell_type": "code",
   "execution_count": null,
   "metadata": {},
   "outputs": [],
   "source": [
    "import pandas as pd"
   ]
  },
  {
   "cell_type": "code",
   "execution_count": null,
   "metadata": {},
   "outputs": [],
   "source": [
    "ghp = {\n",
    "    'tydzień' : [1,2,3,4,5,6,7,8,9,10],\n",
    "    'przewidywany popyt' : calculate_demand(demand_input),\n",
    "    'produkcja' : calculate_production(production_input),\n",
    "    'dostepne' : calculate_available(available_input)\n",
    "}"
   ]
  },
  {
   "cell_type": "code",
   "execution_count": null,
   "metadata": {},
   "outputs": [],
   "source": [
    "df = pd.DataFrame(ghp).transpose()\n",
    "df"
   ]
  },
  {
   "cell_type": "code",
   "execution_count": null,
   "metadata": {},
   "outputs": [],
   "source": []
  }
 ],
 "metadata": {
  "kernelspec": {
   "display_name": "venv",
   "language": "python",
   "name": "python3"
  },
  "language_info": {
   "codemirror_mode": {
    "name": "ipython",
    "version": 3
   },
   "file_extension": ".py",
   "mimetype": "text/x-python",
   "name": "python",
   "nbconvert_exporter": "python",
   "pygments_lexer": "ipython3",
   "version": "3.12.2"
  }
 },
 "nbformat": 4,
 "nbformat_minor": 2
}
